{
  "nbformat": 4,
  "nbformat_minor": 0,
  "metadata": {
    "colab": {
      "provenance": [],
      "include_colab_link": true
    },
    "kernelspec": {
      "name": "python3",
      "display_name": "Python 3"
    },
    "language_info": {
      "name": "python"
    }
  },
  "cells": [
    {
      "cell_type": "markdown",
      "metadata": {
        "id": "view-in-github",
        "colab_type": "text"
      },
      "source": [
        "<a href=\"https://colab.research.google.com/github/Vitor4442/-Monitoramento-de-Temperatura-com-Python-Google-Apps-Script-OpenWeather/blob/main/Acesso_API_OpenWeather.ipynb\" target=\"_parent\"><img src=\"https://colab.research.google.com/assets/colab-badge.svg\" alt=\"Open In Colab\"/></a>"
      ]
    },
    {
      "cell_type": "code",
      "source": [
        "import requests\n",
        "\n",
        "def obter_clima(cidade, chave_api):\n",
        "    url = f\"http://api.openweathermap.org/data/2.5/weather?q={cidade},BR&appid={chave_api}&units=metric&lang=pt\"\n",
        "    print(url)\n",
        "    try:\n",
        "        resposta = requests.get(url)\n",
        "        resposta.raise_for_status()\n",
        "        dados = resposta.json()\n",
        "        temperatura = dados['main']['temp']\n",
        "        descricao = dados['weather'][0]['description']\n",
        "        sensacao = dados['main']['feels_like']\n",
        "\n",
        "        print(f\"\\nA temperatura em {cidade} é de {temperatura}°C.\")\n",
        "        print(f\"Condições climáticas: {descricao.capitalize()}.\")\n",
        "        print(f\"Sensação térmica é: {sensacao} °C.\")\n",
        "\n",
        "    except requests.exceptions.RequestException as erro:\n",
        "        print(\"\\nErro ao acessar a API:\", erro)\n",
        "    except KeyError:\n",
        "        print(\"\\nErro ao processar os dados da API. Verifique se o nome da cidade está correto.\")\n",
        "\n",
        "if __name__ == \"__main__\":\n",
        "    print(\"Consulta de Clima - OpenWeather API\")\n",
        "    cidade = input(\"Digite o nome de uma cidade do Brasil: \")\n",
        "    chave_api = \"ca9990a9d0b50ecc5e6851175cea8e2b\"\n",
        "    obter_clima(cidade, chave_api)\n"
      ],
      "metadata": {
        "colab": {
          "base_uri": "https://localhost:8080/"
        },
        "id": "jrcZaH0AN9Lc",
        "outputId": "f029048b-c620-4960-c58f-4fe6bf1cf1a7"
      },
      "execution_count": null,
      "outputs": [
        {
          "output_type": "stream",
          "name": "stdout",
          "text": [
            "Consulta de Clima - OpenWeather API\n",
            "Digite o nome de uma cidade do Brasil: taubaté\n",
            "http://api.openweathermap.org/data/2.5/weather?q=taubaté,BR&appid=ca9990a9d0b50ecc5e6851175cea8e2b&units=metric&lang=pt\n",
            "\n",
            "A temperatura em taubaté é de 22.06°C.\n",
            "Condições climáticas: Chuva moderada.\n",
            "Sensação térmica é: 22.8 °C.\n"
          ]
        }
      ]
    },
    {
      "cell_type": "code",
      "source": [
        "import requests\n",
        "\n",
        "# Substitua pela URL do seu script implantado\n",
        "url = \"https://script.google.com/macros/s/AKfycbyw17mTIDGb3jYnkmnxQP1olT4SZIjcvR3vwRZhL5tVnR7w7TFnlQk9omw9L-k1zozn/exec\"\n",
        "\n",
        "# Pedir para o usuário digitar a cidade\n",
        "cidade = input(\"Digite o nome da cidade: \")\n",
        "\n",
        "# Criar os parâmetros da requisição\n",
        "params = {'cidade': cidade}\n",
        "\n",
        "# Fazer a requisição GET\n",
        "response = requests.get(url, params=params)\n",
        "\n",
        "# Exibir a resposta\n",
        "if response.status_code == 200:\n",
        "    print(\"Resposta do servidor:\", response.json())\n",
        "else:\n",
        "    print(\"Erro na requisição:\", response.status_code, response.text)\n"
      ],
      "metadata": {
        "colab": {
          "base_uri": "https://localhost:8080/"
        },
        "id": "NPB5tj_tW_wL",
        "outputId": "7b81ed4c-6c94-4243-ed57-378bd682b0bb"
      },
      "execution_count": 5,
      "outputs": [
        {
          "output_type": "stream",
          "name": "stdout",
          "text": [
            "Digite o nome da cidade: ubatuba\n",
            "Resposta do servidor: {'media': 23.08666666666667, 'ultimos': [21.95, 20.96, 20.83, 24.86, 24.96, 24.96], 'cidade': 'ubatuba'}\n"
          ]
        }
      ]
    }
  ]
}